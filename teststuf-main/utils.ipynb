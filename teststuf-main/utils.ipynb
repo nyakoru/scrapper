{
 "cells": [
  {
   "cell_type": "markdown",
   "metadata": {},
   "source": [
    "# class fetch_json:"
   ]
  },
  {
   "cell_type": "code",
   "execution_count": 1,
   "metadata": {},
   "outputs": [],
   "source": [
    "from command.tools.ArcaneUtils import fetch_json\n",
    "\n",
    "file = fetch_json(directory=\"\", file_name=\"example.json\")"
   ]
  },
  {
   "cell_type": "code",
   "execution_count": 4,
   "metadata": {},
   "outputs": [
    {
     "name": "stdout",
     "output_type": "stream",
     "text": [
      "[{'fruit': 'apple', 'vehicle': 'car'}]\n"
     ]
    }
   ],
   "source": [
    "# .read() method\n",
    "data = file.read()\n",
    "\n",
    "print(data)"
   ]
  },
  {
   "cell_type": "code",
   "execution_count": 3,
   "metadata": {},
   "outputs": [
    {
     "name": "stdout",
     "output_type": "stream",
     "text": [
      "Data dumped successfully to example.json\n",
      "{'fruit': 'apple', 'vehicle': 'car'}\n",
      "Data dumped successfully to example.json\n",
      "[{'fruit': 'apple', 'vehicle': 'car'}]\n"
     ]
    }
   ],
   "source": [
    "# .dump() method\n",
    "dict_ = {\n",
    "        \"fruit\":\"apple\",\n",
    "        \"vehicle\":\"car\"\n",
    "     }\n",
    "\n",
    "list_= [\n",
    "    {\n",
    "        \"fruit\":\"apple\",\n",
    "        \"vehicle\":\"car\"\n",
    "     }\n",
    "]\n",
    "\n",
    "file.dump(dict_)\n",
    "print(file.read())\n",
    "\n",
    "file.dump(list_)\n",
    "print(file.read())"
   ]
  },
  {
   "cell_type": "code",
   "execution_count": 5,
   "metadata": {},
   "outputs": [
    {
     "name": "stdout",
     "output_type": "stream",
     "text": [
      "Data added successfully to example.json\n",
      "[{'fruit': 'apple', 'vehicle': 'car'}, [{'fruit': 'apple', 'vehicle': 'car'}]]\n"
     ]
    }
   ],
   "source": [
    "# .add() method\n",
    "file.add(list_)\n",
    "print(file.read())\n",
    "\n",
    "# cannot add a dict, so watch out."
   ]
  },
  {
   "cell_type": "markdown",
   "metadata": {},
   "source": [
    "# class fetch_csv:"
   ]
  },
  {
   "cell_type": "code",
   "execution_count": 14,
   "metadata": {},
   "outputs": [],
   "source": [
    "from command.tools.ArcaneUtils import fetch_csv\n",
    "\n",
    "\n",
    "file = fetch_csv(directory=\"./\", file_name=\"example.csv\")"
   ]
  },
  {
   "cell_type": "code",
   "execution_count": 15,
   "metadata": {},
   "outputs": [
    {
     "name": "stdout",
     "output_type": "stream",
     "text": [
      "[['0', '0', '0'], ['1', '2', '3'], ['4', '5', '6']]\n"
     ]
    }
   ],
   "source": [
    "data = file.read()\n",
    "print(data)"
   ]
  },
  {
   "cell_type": "code",
   "execution_count": 16,
   "metadata": {},
   "outputs": [
    {
     "name": "stdout",
     "output_type": "stream",
     "text": [
      "[['0', '0', '0'], ['1', '2', '3'], ['4', '5', '6'], ['1', '2', '3'], ['4', '5', '6']]\n"
     ]
    }
   ],
   "source": [
    "_list = [[1,2,3],\n",
    "         [4,5,6]]\n",
    "\n",
    "file.add_row_list(_list)\n",
    "print(file.read())"
   ]
  },
  {
   "cell_type": "markdown",
   "metadata": {},
   "source": [
    "# correction.py"
   ]
  },
  {
   "cell_type": "code",
   "execution_count": 1,
   "metadata": {},
   "outputs": [
    {
     "name": "stdout",
     "output_type": "stream",
     "text": [
      "/|?example<>.json\n",
      "__slash____pipe____question__example__lt____gt__.json\n",
      "/|?example<>.json\n"
     ]
    }
   ],
   "source": [
    "from command.correction import correction, reverse_correction\n",
    "\n",
    "# often save files have illegal names that causes errors\n",
    "\n",
    "string = \"/|?example<>.json\"\n",
    "\n",
    "# pre-transformation\n",
    "print(string)\n",
    "\n",
    "# transform a string into a new reversible string\n",
    "new_string = correction(string)\n",
    "print(new_string)\n",
    "\n",
    "# converts back string from the transformed string\n",
    "reverse_string = reverse_correction(new_string)\n",
    "print(reverse_string)"
   ]
  },
  {
   "cell_type": "markdown",
   "metadata": {},
   "source": [
    "# class Download"
   ]
  },
  {
   "cell_type": "code",
   "execution_count": 22,
   "metadata": {},
   "outputs": [
    {
     "name": "stderr",
     "output_type": "stream",
     "text": [
      "2024-12-12 15:58:32,345 - ERROR - TLS-AU-DOWNL-IMAGE-example.com/example.png New folder/example.png.png Invalid URL 'example.com/example.png': No scheme supplied. Perhaps you meant https://example.com/example.png?\n"
     ]
    },
    {
     "name": "stdout",
     "output_type": "stream",
     "text": [
      "example.png\n"
     ]
    },
    {
     "data": {
      "text/plain": [
       "False"
      ]
     },
     "execution_count": 22,
     "metadata": {},
     "output_type": "execute_result"
    }
   ],
   "source": [
    "from command.tools.ArcaneUtils import Download\n",
    "import os\n",
    "\n",
    "img_url = \"example.com/example.png\"         # takes in full image url\n",
    "file_name = os.path.basename(img_url)       # returns example.png using the url string\n",
    "print(file_name)\n",
    "\n",
    "Download(directory=\"New folder\").image(url = img_url, file_name = file_name) # .image method to download image from the url provided. Requires to specify directory and file name."
   ]
  },
  {
   "cell_type": "markdown",
   "metadata": {},
   "source": [
    "# class misc"
   ]
  },
  {
   "cell_type": "code",
   "execution_count": 21,
   "metadata": {},
   "outputs": [
    {
     "name": "stdout",
     "output_type": "stream",
     "text": [
      "['.git', '.venv', '.vscode', 'arcadia_api.egg-info', 'command', 'ENsets', 'folder_1', 'Logs', 'OP', 'process', 'temp', 'testgame', '__pycache__']\n",
      "True\n"
     ]
    }
   ],
   "source": [
    "from command.tools.ArcaneUtils import misc\n",
    "\n",
    "folder_name = \"folder_1\"\n",
    "\n",
    "misc.mkdir(folder_name)             # Creates a folder\n",
    "\n",
    "all_folders = misc.get_folders('./') # Returns all the folder in the path.\n",
    "print(all_folders)                  \n",
    "\n",
    "does_it_exists = misc.path_check(\"folder_1\") # Check if the folder path exists. Returns True if exist, False if not.\n",
    "print(does_it_exists)               "
   ]
  },
  {
   "cell_type": "markdown",
   "metadata": {},
   "source": [
    "# Verification"
   ]
  },
  {
   "cell_type": "code",
   "execution_count": 1,
   "metadata": {},
   "outputs": [
    {
     "data": {
      "text/plain": [
       "'P4V Pass'"
      ]
     },
     "execution_count": 1,
     "metadata": {},
     "output_type": "execute_result"
    }
   ],
   "source": [
    "from process.process_3_verification_v2_0 import process_3_verification\n",
    "from process.process_4_verification_v2_0 import process_4_verification\n",
    "\n",
    "folder_name = \"testgame\"\n",
    "\n",
    "P3V = process_3_verification(folder_name)\n",
    "P4V = process_4_verification(folder_name, image_data_check=True)\n",
    "\n",
    "print(P3V)\n",
    "print(P4V)"
   ]
  }
 ],
 "metadata": {
  "kernelspec": {
   "display_name": ".venv",
   "language": "python",
   "name": "python3"
  },
  "language_info": {
   "codemirror_mode": {
    "name": "ipython",
    "version": 3
   },
   "file_extension": ".py",
   "mimetype": "text/x-python",
   "name": "python",
   "nbconvert_exporter": "python",
   "pygments_lexer": "ipython3",
   "version": "3.11.9"
  }
 },
 "nbformat": 4,
 "nbformat_minor": 2
}
